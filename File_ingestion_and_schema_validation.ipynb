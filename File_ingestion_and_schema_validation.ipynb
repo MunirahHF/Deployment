{
  "nbformat": 4,
  "nbformat_minor": 0,
  "metadata": {
    "colab": {
      "provenance": [],
      "authorship_tag": "ABX9TyPYj+ruZv/HHBy72SYWH311",
      "include_colab_link": true
    },
    "kernelspec": {
      "name": "python3",
      "display_name": "Python 3"
    },
    "language_info": {
      "name": "python"
    }
  },
  "cells": [
    {
      "cell_type": "markdown",
      "metadata": {
        "id": "view-in-github",
        "colab_type": "text"
      },
      "source": [
        "<a href=\"https://colab.research.google.com/github/MunirahHF/Deployment/blob/main/File_ingestion_and_schema_validation.ipynb\" target=\"_parent\"><img src=\"https://colab.research.google.com/assets/colab-badge.svg\" alt=\"Open In Colab\"/></a>"
      ]
    },
    {
      "cell_type": "code",
      "execution_count": 5,
      "metadata": {
        "colab": {
          "base_uri": "https://localhost:8080/"
        },
        "id": "OpzI5a3oKVjY",
        "outputId": "6b50253d-411b-49fe-be30-1fa2479ac5f1"
      },
      "outputs": [
        {
          "output_type": "stream",
          "name": "stdout",
          "text": [
            "Requirement already satisfied: modin[ray] in /usr/local/lib/python3.10/dist-packages (0.31.0)\n",
            "Requirement already satisfied: pandas<2.3,>=2.2 in /usr/local/lib/python3.10/dist-packages (from modin[ray]) (2.2.2)\n",
            "Requirement already satisfied: packaging>=21.0 in /usr/local/lib/python3.10/dist-packages (from modin[ray]) (24.1)\n",
            "Requirement already satisfied: numpy>=1.22.4 in /usr/local/lib/python3.10/dist-packages (from modin[ray]) (1.26.4)\n",
            "Requirement already satisfied: fsspec>=2022.11.0 in /usr/local/lib/python3.10/dist-packages (from modin[ray]) (2024.6.1)\n",
            "Requirement already satisfied: psutil>=5.8.0 in /usr/local/lib/python3.10/dist-packages (from modin[ray]) (5.9.5)\n",
            "Requirement already satisfied: ray!=2.5.0,>=2.1.0 in /usr/local/lib/python3.10/dist-packages (from modin[ray]) (2.34.0)\n",
            "Requirement already satisfied: pyarrow>=10.0.1 in /usr/local/lib/python3.10/dist-packages (from modin[ray]) (14.0.2)\n",
            "Requirement already satisfied: python-dateutil>=2.8.2 in /usr/local/lib/python3.10/dist-packages (from pandas<2.3,>=2.2->modin[ray]) (2.8.2)\n",
            "Requirement already satisfied: pytz>=2020.1 in /usr/local/lib/python3.10/dist-packages (from pandas<2.3,>=2.2->modin[ray]) (2024.1)\n",
            "Requirement already satisfied: tzdata>=2022.7 in /usr/local/lib/python3.10/dist-packages (from pandas<2.3,>=2.2->modin[ray]) (2024.1)\n",
            "Requirement already satisfied: click>=7.0 in /usr/local/lib/python3.10/dist-packages (from ray!=2.5.0,>=2.1.0->modin[ray]) (8.1.7)\n",
            "Requirement already satisfied: filelock in /usr/local/lib/python3.10/dist-packages (from ray!=2.5.0,>=2.1.0->modin[ray]) (3.15.4)\n",
            "Requirement already satisfied: jsonschema in /usr/local/lib/python3.10/dist-packages (from ray!=2.5.0,>=2.1.0->modin[ray]) (4.23.0)\n",
            "Requirement already satisfied: msgpack<2.0.0,>=1.0.0 in /usr/local/lib/python3.10/dist-packages (from ray!=2.5.0,>=2.1.0->modin[ray]) (1.0.8)\n",
            "Requirement already satisfied: protobuf!=3.19.5,>=3.15.3 in /usr/local/lib/python3.10/dist-packages (from ray!=2.5.0,>=2.1.0->modin[ray]) (3.20.3)\n",
            "Requirement already satisfied: pyyaml in /usr/local/lib/python3.10/dist-packages (from ray!=2.5.0,>=2.1.0->modin[ray]) (6.0.1)\n",
            "Requirement already satisfied: aiosignal in /usr/local/lib/python3.10/dist-packages (from ray!=2.5.0,>=2.1.0->modin[ray]) (1.3.1)\n",
            "Requirement already satisfied: frozenlist in /usr/local/lib/python3.10/dist-packages (from ray!=2.5.0,>=2.1.0->modin[ray]) (1.4.1)\n",
            "Requirement already satisfied: requests in /usr/local/lib/python3.10/dist-packages (from ray!=2.5.0,>=2.1.0->modin[ray]) (2.31.0)\n",
            "Requirement already satisfied: six>=1.5 in /usr/local/lib/python3.10/dist-packages (from python-dateutil>=2.8.2->pandas<2.3,>=2.2->modin[ray]) (1.16.0)\n",
            "Requirement already satisfied: attrs>=22.2.0 in /usr/local/lib/python3.10/dist-packages (from jsonschema->ray!=2.5.0,>=2.1.0->modin[ray]) (23.2.0)\n",
            "Requirement already satisfied: jsonschema-specifications>=2023.03.6 in /usr/local/lib/python3.10/dist-packages (from jsonschema->ray!=2.5.0,>=2.1.0->modin[ray]) (2023.12.1)\n",
            "Requirement already satisfied: referencing>=0.28.4 in /usr/local/lib/python3.10/dist-packages (from jsonschema->ray!=2.5.0,>=2.1.0->modin[ray]) (0.35.1)\n",
            "Requirement already satisfied: rpds-py>=0.7.1 in /usr/local/lib/python3.10/dist-packages (from jsonschema->ray!=2.5.0,>=2.1.0->modin[ray]) (0.19.1)\n",
            "Requirement already satisfied: charset-normalizer<4,>=2 in /usr/local/lib/python3.10/dist-packages (from requests->ray!=2.5.0,>=2.1.0->modin[ray]) (3.3.2)\n",
            "Requirement already satisfied: idna<4,>=2.5 in /usr/local/lib/python3.10/dist-packages (from requests->ray!=2.5.0,>=2.1.0->modin[ray]) (3.7)\n",
            "Requirement already satisfied: urllib3<3,>=1.21.1 in /usr/local/lib/python3.10/dist-packages (from requests->ray!=2.5.0,>=2.1.0->modin[ray]) (2.0.7)\n",
            "Requirement already satisfied: certifi>=2017.4.17 in /usr/local/lib/python3.10/dist-packages (from requests->ray!=2.5.0,>=2.1.0->modin[ray]) (2024.7.4)\n",
            "Requirement already satisfied: ray in /usr/local/lib/python3.10/dist-packages (2.34.0)\n",
            "Requirement already satisfied: click>=7.0 in /usr/local/lib/python3.10/dist-packages (from ray) (8.1.7)\n",
            "Requirement already satisfied: filelock in /usr/local/lib/python3.10/dist-packages (from ray) (3.15.4)\n",
            "Requirement already satisfied: jsonschema in /usr/local/lib/python3.10/dist-packages (from ray) (4.23.0)\n",
            "Requirement already satisfied: msgpack<2.0.0,>=1.0.0 in /usr/local/lib/python3.10/dist-packages (from ray) (1.0.8)\n",
            "Requirement already satisfied: packaging in /usr/local/lib/python3.10/dist-packages (from ray) (24.1)\n",
            "Requirement already satisfied: protobuf!=3.19.5,>=3.15.3 in /usr/local/lib/python3.10/dist-packages (from ray) (3.20.3)\n",
            "Requirement already satisfied: pyyaml in /usr/local/lib/python3.10/dist-packages (from ray) (6.0.1)\n",
            "Requirement already satisfied: aiosignal in /usr/local/lib/python3.10/dist-packages (from ray) (1.3.1)\n",
            "Requirement already satisfied: frozenlist in /usr/local/lib/python3.10/dist-packages (from ray) (1.4.1)\n",
            "Requirement already satisfied: requests in /usr/local/lib/python3.10/dist-packages (from ray) (2.31.0)\n",
            "Requirement already satisfied: attrs>=22.2.0 in /usr/local/lib/python3.10/dist-packages (from jsonschema->ray) (23.2.0)\n",
            "Requirement already satisfied: jsonschema-specifications>=2023.03.6 in /usr/local/lib/python3.10/dist-packages (from jsonschema->ray) (2023.12.1)\n",
            "Requirement already satisfied: referencing>=0.28.4 in /usr/local/lib/python3.10/dist-packages (from jsonschema->ray) (0.35.1)\n",
            "Requirement already satisfied: rpds-py>=0.7.1 in /usr/local/lib/python3.10/dist-packages (from jsonschema->ray) (0.19.1)\n",
            "Requirement already satisfied: charset-normalizer<4,>=2 in /usr/local/lib/python3.10/dist-packages (from requests->ray) (3.3.2)\n",
            "Requirement already satisfied: idna<4,>=2.5 in /usr/local/lib/python3.10/dist-packages (from requests->ray) (3.7)\n",
            "Requirement already satisfied: urllib3<3,>=1.21.1 in /usr/local/lib/python3.10/dist-packages (from requests->ray) (2.0.7)\n",
            "Requirement already satisfied: certifi>=2017.4.17 in /usr/local/lib/python3.10/dist-packages (from requests->ray) (2024.7.4)\n",
            "Requirement already satisfied: pyyaml in /usr/local/lib/python3.10/dist-packages (6.0.1)\n"
          ]
        },
        {
          "output_type": "stream",
          "name": "stderr",
          "text": [
            "2024-08-04 02:31:31,861\tINFO worker.py:1614 -- Calling ray.init() again after it has already been called.\n"
          ]
        },
        {
          "output_type": "stream",
          "name": "stdout",
          "text": [
            "Pandas read time: 0.0071184635162353516 seconds\n",
            "Dask read time: 0.01932382583618164 seconds\n",
            "Modin read time: 0.046150922775268555 seconds\n",
            "Ray read time: 2.0954504013061523 seconds\n"
          ]
        }
      ],
      "source": [
        "!pip install modin[ray]\n",
        "!pip install ray\n",
        "!pip install pyyaml\n",
        "\n",
        "# Required Libraries\n",
        "import pandas as pd\n",
        "import dask.dataframe as dd\n",
        "import modin.pandas as mpd\n",
        "import ray\n",
        "import os\n",
        "import time\n",
        "\n",
        "# Initialize Ray\n",
        "ray.init(ignore_reinit_error=True)\n",
        "\n",
        "# File Path\n",
        "file_path = 'Latest Football  Players 2024 Data.csv'\n",
        "\n",
        "# Pandas\n",
        "start_time = time.time()\n",
        "df_pandas = pd.read_csv(file_path)\n",
        "pandas_time = time.time() - start_time\n",
        "\n",
        "# Dask\n",
        "start_time = time.time()\n",
        "ddf = dd.read_csv(file_path)\n",
        "dask_time = time.time() - start_time\n",
        "\n",
        "# Modin\n",
        "start_time = time.time()\n",
        "df_modin = mpd.read_csv(file_path)\n",
        "modin_time = time.time() - start_time\n",
        "\n",
        "# Ray\n",
        "import ray.data as rdf\n",
        "start_time = time.time()\n",
        "df_ray = rdf.read_csv(file_path)\n",
        "ray_time = time.time() - start_time\n",
        "\n",
        "print(f\"Pandas read time: {pandas_time} seconds\")\n",
        "print(f\"Dask read time: {dask_time} seconds\")\n",
        "print(f\"Modin read time: {modin_time} seconds\")\n",
        "print(f\"Ray read time: {ray_time} seconds\")\n",
        "\n",
        "\n"
      ]
    },
    {
      "cell_type": "markdown",
      "source": [
        "Pandas is the quickest for this task, with Dask and Modin also performing well. Ray shows significantly longer read times"
      ],
      "metadata": {
        "id": "VuOzVKghO-R7"
      }
    },
    {
      "cell_type": "code",
      "source": [
        "# Clean column names by removing special characters and white spaces\n",
        "def clean_column_names(df):\n",
        "    df.columns = df.columns.str.replace('[^A-Za-z0-9]+', '_').str.strip()\n",
        "    return df\n",
        "\n",
        "df_pandas = clean_column_names(df_pandas)\n"
      ],
      "metadata": {
        "id": "GGY9IyAHPBH2"
      },
      "execution_count": 6,
      "outputs": []
    },
    {
      "cell_type": "code",
      "source": [
        "import yaml\n",
        "\n",
        "# Define the schema\n",
        "schema = {\n",
        "    'separator': ',',\n",
        "    'columns': [\n",
        "        'players_clubs',\n",
        "        'players_goals',\n",
        "        'players_assists',\n",
        "        'players_ratings',\n",
        "        'players_name',\n",
        "        'players_tenor_in_one_club',\n",
        "        'players_matches'\n",
        "    ]\n",
        "}\n",
        "\n",
        "# Write to a YAML file\n",
        "with open('config.yaml', 'w') as file:\n",
        "    yaml.dump(schema, file)\n",
        "\n",
        "print(\"YAML file created successfully.\")\n"
      ],
      "metadata": {
        "colab": {
          "base_uri": "https://localhost:8080/"
        },
        "id": "GzjAQdf2Pk56",
        "outputId": "1f47bb81-9d8d-40fa-b16d-0ca3777f41c5"
      },
      "execution_count": 9,
      "outputs": [
        {
          "output_type": "stream",
          "name": "stdout",
          "text": [
            "YAML file created successfully.\n"
          ]
        }
      ]
    },
    {
      "cell_type": "code",
      "source": [
        "\n",
        "\n",
        "def validate_columns(df, yaml_file):\n",
        "    with open(yaml_file, 'r') as file:\n",
        "        config = yaml.safe_load(file)\n",
        "\n",
        "    expected_columns = config['columns']\n",
        "    actual_columns = df.columns.tolist()\n",
        "\n",
        "    if sorted(expected_columns) == sorted(actual_columns):\n",
        "        print(\"Column validation successful.\")\n",
        "    else:\n",
        "        print(\"Column validation failed.\")\n",
        "        print(\"Expected columns:\", expected_columns)\n",
        "        print(\"Actual columns:\", actual_columns)\n",
        "\n",
        "# Validate columns for Pandas DataFrame\n",
        "validate_columns(df_pandas, 'config.yaml')\n"
      ],
      "metadata": {
        "colab": {
          "base_uri": "https://localhost:8080/"
        },
        "id": "5AgxBXYvP_Zf",
        "outputId": "4a1938fc-7029-472a-c692-d79be037e43a"
      },
      "execution_count": 10,
      "outputs": [
        {
          "output_type": "stream",
          "name": "stdout",
          "text": [
            "Column validation failed.\n",
            "Expected columns: ['players_clubs', 'players_goals', 'players_assists', 'players_ratings', 'players_name', 'players_tenor_in_one_club', 'players_matches']\n",
            "Actual columns: ['Teams', 'Seasons', 'Players', 'Matches', 'Goals', 'Assists', 'Seasons Ratings']\n"
          ]
        }
      ]
    },
    {
      "cell_type": "code",
      "source": [
        "# Save DataFrame to a pipe-separated gzipped file\n",
        "df_pandas.to_csv('output_file.txt.gz', sep='|', compression='gzip', index=False)\n"
      ],
      "metadata": {
        "id": "0SueP124QHnT"
      },
      "execution_count": 11,
      "outputs": []
    },
    {
      "cell_type": "code",
      "source": [
        "file_size = os.path.getsize('output_file.txt.gz')\n",
        "\n",
        "print(f\"Total number of rows: {df_pandas.shape[0]}\")\n",
        "print(f\"Total number of columns: {df_pandas.shape[1]}\")\n",
        "print(f\"File size: {file_size} bytes\")\n"
      ],
      "metadata": {
        "colab": {
          "base_uri": "https://localhost:8080/"
        },
        "id": "_akX__F9QLVU",
        "outputId": "6ea2f17c-e1b4-4aa2-b2af-dbaa5293813a"
      },
      "execution_count": 12,
      "outputs": [
        {
          "output_type": "stream",
          "name": "stdout",
          "text": [
            "Total number of rows: 1216\n",
            "Total number of columns: 7\n",
            "File size: 13020 bytes\n"
          ]
        }
      ]
    }
  ]
}